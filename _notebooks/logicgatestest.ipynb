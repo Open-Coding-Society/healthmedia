{
 "cells": [
  {
   "cell_type": "code",
   "execution_count": null,
   "metadata": {},
   "outputs": [
    {
     "name": "stdout",
     "output_type": "stream",
     "text": [
      "1\n",
      "0\n"
     ]
    }
   ],
   "source": [
    "\n",
    "def secure_entry_system(keycard, pin, voice): \n",
    "    def AND(a, b, c): \n",
    "        return a & b & c # AND logic \n",
    "\n",
    "\n",
    "    return AND(keycard, pin, voice) \n",
    "\n",
    "# Test cases\n",
    "print(secure_entry_system(1, 1, 1))  # Expected Output: 1 (Access Granted) \n",
    "print(secure_entry_system(0, 1, 0))  # Expected Output: 0 (Access Denied)\n",
    "\n"
   ]
  },
  {
   "cell_type": "code",
   "execution_count": 5,
   "metadata": {},
   "outputs": [
    {
     "name": "stdout",
     "output_type": "stream",
     "text": [
      "True\n",
      "True\n",
      "False\n",
      "True\n"
     ]
    }
   ],
   "source": [
    "def is_even(n):\n",
    "    return n % 2 == 0\n",
    "print(is_even(4))\n",
    "print(is_even(-4))\n",
    "print(is_even(3))\n",
    "print(is_even(0))"
   ]
  },
  {
   "cell_type": "code",
   "execution_count": 6,
   "metadata": {},
   "outputs": [
    {
     "name": "stdout",
     "output_type": "stream",
     "text": [
      "False\n",
      "False\n",
      "False\n",
      "True\n"
     ]
    }
   ],
   "source": [
    "def is_even(n):\n",
    "    return n // 2 == 0\n",
    "print(is_even(4))\n",
    "print(is_even(-4))\n",
    "print(is_even(3))\n",
    "print(is_even(0))"
   ]
  },
  {
   "cell_type": "code",
   "execution_count": 8,
   "metadata": {},
   "outputs": [
    {
     "name": "stdout",
     "output_type": "stream",
     "text": [
      "hello\n"
     ]
    }
   ],
   "source": [
    "def reverse_string(s):\n",
    "    result = \"\"\n",
    "    for i in range(len(s)):\n",
    "        result = result + s[i]\n",
    "    return result\n",
    "print(reverse_string(\"hello\"))"
   ]
  },
  {
   "cell_type": "code",
   "execution_count": 13,
   "metadata": {},
   "outputs": [
    {
     "name": "stdout",
     "output_type": "stream",
     "text": [
      "olleh\n"
     ]
    }
   ],
   "source": [
    "\n",
    "def reverse_string(s):\n",
    "    result = \"\"\n",
    "    for i in range(len(s)-1, -1, -1):  # loop backward\n",
    "        result += s[i]\n",
    "    return result\n",
    "print(reverse_string(\"hello\"))\n"
   ]
  },
  {
   "cell_type": "code",
   "execution_count": 16,
   "metadata": {},
   "outputs": [
    {
     "name": "stdout",
     "output_type": "stream",
     "text": [
      "24\n"
     ]
    }
   ],
   "source": [
    "def multiply_list(nums):\n",
    "    total = 1\n",
    "    for n in nums:\n",
    "        total *= n\n",
    "    return total\n",
    "print(multiply_list([1, 2, 3, 4]))  # Expected Output: 24"
   ]
  },
  {
   "cell_type": "code",
   "execution_count": 17,
   "metadata": {},
   "outputs": [
    {
     "name": "stdout",
     "output_type": "stream",
     "text": [
      "2\n",
      "0\n",
      "6\n",
      "3\n",
      "Error: Input must be a string.\n",
      "Error: Input must be a string.\n"
     ]
    }
   ],
   "source": [
    "def count_a(text):\n",
    "    # Failsafe: check if input is a string\n",
    "    if not isinstance(text, str):\n",
    "        return \"Error: Input must be a string.\"\n",
    "    \n",
    "    return text.lower().count('a')\n",
    "\n",
    "# Example test cases:\n",
    "print(count_a(\"Alphabet\"))   # Should return 2\n",
    "print(count_a(\"\"))           # Should return 0\n",
    "print(count_a(\"AAAaaa\"))     # Should return 6\n",
    "print(count_a(\"Banana\"))     # Should return 3\n",
    "print(count_a(12345))        # Should return error message\n",
    "print(count_a(None))         # Should return error message\n"
   ]
  }
 ],
 "metadata": {
  "kernelspec": {
   "display_name": "venv",
   "language": "python",
   "name": "python3"
  },
  "language_info": {
   "codemirror_mode": {
    "name": "ipython",
    "version": 3
   },
   "file_extension": ".py",
   "mimetype": "text/x-python",
   "name": "python",
   "nbconvert_exporter": "python",
   "pygments_lexer": "ipython3",
   "version": "3.12.3"
  }
 },
 "nbformat": 4,
 "nbformat_minor": 2
}
