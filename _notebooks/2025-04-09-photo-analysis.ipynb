{
 "cells": [
  {
   "cell_type": "markdown",
   "id": "22debb25",
   "metadata": {},
   "source": [
    "---\n",
    "layout: post\n",
    "title: Photo Analysis\n",
    "permalink: /photo_analysis/\n",
    "---"
   ]
  },
  {
   "cell_type": "markdown",
   "id": "db6dc183",
   "metadata": {},
   "source": [
    "<img src=\"./images/draw-io=diagram.png\" alt=\"Diagram\" />"
   ]
  },
  {
   "cell_type": "markdown",
   "id": "f7795893",
   "metadata": {},
   "source": [
    "## User Story: Photos\n",
    "As part of Legoland California's marketing team, it is important to consider the quality of the photos being posted, since it is a major part of the post. Often times, photos aren't considered and reviewed with much thought, but photos are the center of what attracts viewers to view and engage with a post. The photo quality can be reviewed and given feedback from my analyzing.\n",
    "\n",
    "### Legoland Social Media \n",
    "To determine the performance of Palomar Health's social media posts, I can analyze including:\n",
    "- Brightness\n",
    "- Saturation\n",
    "- Size\n",
    "All to provide the user with how well their post will perform based on their photo upload. In order for Palomar Health's social account to increase the rates of user engagement and likability of their posts, the photo that they upload is an important aspect of the appeal.\n",
    "\n",
    "### How\n",
    "- Instaloader API: extract the photos on the Legoland California Resort insta handle \n",
    "- using meta data of the images posted, receive CSV (TBD) file: input OR analyze the photo itself with modified model.py\n",
    "- num_likes: output\n",
    "\n",
    "### What\n",
    "_Deliverables include:_ \n",
    "- a direct conclusion of how well the post will perform with the selected photo (e.g. Good, Mediocre, Bad): number of likes\n",
    "- suggestions of applying different photo filters that fit what the ML process will determine to be the best photo quality \n",
    "\n"
   ]
  }
 ],
 "metadata": {
  "language_info": {
   "name": "python"
  }
 },
 "nbformat": 4,
 "nbformat_minor": 5
}
