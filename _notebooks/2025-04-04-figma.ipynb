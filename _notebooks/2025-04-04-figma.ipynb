{
 "cells": [
  {
   "cell_type": "markdown",
   "id": "2cd4c489",
   "metadata": {},
   "source": [
    "---\n",
    "layout: post\n",
    "title: Figma Board\n",
    "permalink: /figmaboard/\n",
    "---"
   ]
  },
  {
   "cell_type": "markdown",
   "id": "505328ac",
   "metadata": {},
   "source": [
    "# 💖 Welcome to Our Figma Board! 🎨✨\n",
    "\n",
    "Hey there! 👋 We're so excited to share our design journey with you.\n",
    "\n",
    "We've been working on a **fun, engaging interface** to help **boost Palomar Health’s social media engagement**. From interactive features to calming, friendly designs, everything was built with care 🫶.\n",
    "\n",
    "---\n",
    "\n",
    "## 🌟 Take a Peek!\n",
    "\n",
    "[![Explore Our Figma Board](https://github.com/user-attachments/assets/7497a620-bf15-457e-8fb7-b46a2c8dae6b)](https://www.figma.com/design/21gExekZB4z6caPl19g2HQ/Explore-Palomar-Health?node-id=0-1&p=f&t=kkMjy2qQnWkYKjUY-0)\n",
    "\n",
    "> ✨ *Click the image above to explore our board!*\n",
    "\n",
    "\n",
    "---\n"
   ]
  }
 ],
 "metadata": {
  "language_info": {
   "name": "python"
  }
 },
 "nbformat": 4,
 "nbformat_minor": 5
}
