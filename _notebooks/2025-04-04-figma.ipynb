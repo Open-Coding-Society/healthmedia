{
 "cells": [
  {
   "cell_type": "markdown",
   "id": "2cd4c489",
   "metadata": {},
   "source": [
    "---\n",
    "layout: post\n",
    "title: Figma Board\n",
    "permalink: /figmaboard/\n",
    "---"
   ]
  },
  {
   "cell_type": "markdown",
   "id": "505328ac",
   "metadata": {},
   "source": [
    "jfkldjskljdskfj"
   ]
  }
 ],
 "metadata": {
  "language_info": {
   "name": "python"
  }
 },
 "nbformat": 4,
 "nbformat_minor": 5
}
